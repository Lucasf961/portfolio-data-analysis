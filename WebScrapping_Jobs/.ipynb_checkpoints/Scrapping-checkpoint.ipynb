{
 "cells": [
  {
   "cell_type": "code",
   "execution_count": 1,
   "id": "2ac76f48",
   "metadata": {},
   "outputs": [],
   "source": [
    "# Imports\n",
    "import os\n",
    "from selenium import webdriver\n",
    "from selenium.webdriver.chrome.service import Service\n",
    "from selenium.webdriver.common.by import By\n",
    "import time\n",
    "import pandas as pd\n",
    "import unidecode"
   ]
  },
  {
   "cell_type": "code",
   "execution_count": 45,
   "id": "e9de7d17",
   "metadata": {
    "scrolled": false
   },
   "outputs": [
    {
     "name": "stdout",
     "output_type": "stream",
     "text": [
      "Escolha o cargo da vaga: data analyst\n",
      "Escolha a localidade da vaga: brasil\n",
      "Escolha o nível de experiência(júnior ou pleno/sênior): junior\n"
     ]
    }
   ],
   "source": [
    "# Inputs\n",
    "cargo = input('Escolha o cargo da vaga: ')\n",
    "local = input('Escolha a localidade da vaga: ')\n",
    "exp = input('Escolha o nível de experiência(júnior ou pleno/sênior): ')"
   ]
  },
  {
   "cell_type": "code",
   "execution_count": 46,
   "id": "63820416",
   "metadata": {},
   "outputs": [],
   "source": [
    "# Fazendo os devidos ajustes nas strings dos Inputs\n",
    "\n",
    "# Cargo\n",
    "cargo = unidecode.unidecode(cargo)\n",
    "cargo = cargo.lower()\n",
    "cargo = cargo.replace(' ', '%20')\n",
    "\n",
    "# Local\n",
    "local = unidecode.unidecode(local)\n",
    "local = local.lower()\n",
    "local = local.replace(' ', '%20')\n",
    "if local == 'brasil':\n",
    "    local = 'brazil'\n",
    "\n",
    "# Exp\n",
    "exp = unidecode.unidecode(exp)\n",
    "exp = exp.lower()\n",
    "if exp == 'junior':\n",
    "    exp = '&f_E=3'\n",
    "else:\n",
    "    exp = '&f_E=4'"
   ]
  },
  {
   "cell_type": "code",
   "execution_count": 49,
   "id": "0f169211",
   "metadata": {},
   "outputs": [],
   "source": [
    "# abrindo o link no google chrome com selenium com as variaveis dos inputs\n",
    "s = Service('C:\\Program Files (x86)\\Google\\Chrome\\Application\\chromedriver.exe')\n",
    "navegador = webdriver.Chrome(service=s)\n",
    "\n",
    "navegador.get(f'https://www.linkedin.com/jobs/search?keywords={cargo}&location={local}&f_TPR=r2592000{exp}&position=1&pageNum=0')\n",
    "time.sleep(10)"
   ]
  },
  {
   "cell_type": "code",
   "execution_count": 50,
   "id": "d6993835",
   "metadata": {},
   "outputs": [
    {
     "name": "stdout",
     "output_type": "stream",
     "text": [
      "531\n"
     ]
    }
   ],
   "source": [
    "# número de vagas\n",
    "n_of_jobs = int(navegador.find_element(By.CSS_SELECTOR, 'h1>span').get_attribute('innerText').replace(',', '').replace('.', '').replace('+', ''))\n",
    "print(n_of_jobs)"
   ]
  },
  {
   "cell_type": "code",
   "execution_count": 7,
   "id": "88e49547",
   "metadata": {},
   "outputs": [],
   "source": [
    "# Scroll com o mouse\n",
    "i = 1\n",
    "while i < n_of_jobs/25:\n",
    "    try:\n",
    "        navegador.find_element(By.XPATH, '//div[1]/div/main/section[2]/button').click()\n",
    "        time.sleep(3)\n",
    "    except:\n",
    "        navegador.execute_script('window.scrollTo(0, document.body.scrollHeight);')\n",
    "        time.sleep(3)\n",
    "    i = i + 1"
   ]
  },
  {
   "cell_type": "code",
   "execution_count": 8,
   "id": "b11acdd4",
   "metadata": {},
   "outputs": [],
   "source": [
    "# Buscando a tag de cada vaga\n",
    "jobs = navegador.find_element(By.CLASS_NAME, 'jobs-search__results-list').find_elements(By.TAG_NAME, 'li')"
   ]
  },
  {
   "cell_type": "code",
   "execution_count": 9,
   "id": "f9140717",
   "metadata": {},
   "outputs": [],
   "source": [
    "# Extraindo informações das vagas\n",
    "job_title = []\n",
    "company_name = []\n",
    "location = []\n",
    "date = []\n",
    "job_link = []\n",
    "\n",
    "for job in jobs:\n",
    "    job_title0 = job.find_element(By.CSS_SELECTOR, 'h3').get_attribute('innerText')\n",
    "    job_title.append(job_title0)\n",
    "\n",
    "    company_name0 = job.find_element(By.CSS_SELECTOR, 'h4').get_attribute('innerText')\n",
    "    company_name.append(company_name0)\n",
    "\n",
    "    location0 = job.find_element(By.CSS_SELECTOR, '[class=\"job-search-card__location\"]').get_attribute('innerText')\n",
    "    location.append(location0)\n",
    "\n",
    "    date0 = job.find_element(By.CSS_SELECTOR, 'div>div>time').get_attribute('datetime')\n",
    "    date.append(date0)\n",
    "\n",
    "    job_link0 = job.find_element(By.CSS_SELECTOR, 'a').get_attribute('href')\n",
    "    job_link.append(job_link0)"
   ]
  },
  {
   "cell_type": "code",
   "execution_count": 10,
   "id": "e730e10a",
   "metadata": {},
   "outputs": [],
   "source": [
    "# Extraindo descrição das vagas\n",
    "job_description = []\n",
    "\n",
    "for i in range(len(jobs)):\n",
    "    try:\n",
    "        job_click_path = f'//section[2]/ul/li[{i + 1}]/div/a'\n",
    "        job_click = navegador.find_element(By.XPATH, job_click_path).click()\n",
    "        time.sleep(4)\n",
    "\n",
    "        job_desc_path = '/html/body/div[1]/div/section/div[2]/div[1]/section[1]/div/div/section/div'\n",
    "        jd0 = navegador.find_element(By.XPATH, job_desc_path).get_attribute(\"innerText\")\n",
    "        job_description.append(jd0)\n",
    "    except:\n",
    "        job_description.append(None)"
   ]
  },
  {
   "cell_type": "code",
   "execution_count": 23,
   "id": "1ca0224e",
   "metadata": {},
   "outputs": [],
   "source": [
    "# Gravando os dados em um Dataframe\n",
    "job_df = pd.DataFrame({'date': date,\n",
    "'company': company_name,\n",
    "'title': job_title,\n",
    "'location': location,\n",
    "'description': job_description,\n",
    "'link': job_link})"
   ]
  },
  {
   "cell_type": "code",
   "execution_count": 38,
   "id": "525a4d1c",
   "metadata": {},
   "outputs": [],
   "source": [
    "# Fazendo ajustes na coluna de descrição\n",
    "job_df['description'] = job_df['description'].str.replace('\\n', '')\n",
    "job_df = job_df.dropna()"
   ]
  },
  {
   "cell_type": "code",
   "execution_count": 44,
   "id": "4b31ba9d",
   "metadata": {},
   "outputs": [],
   "source": [
    "# salvando csv\n",
    "name_csv = cargo.replace('%20','-')\n",
    "job_df.to_csv(f'{name_csv}.csv', index=False)"
   ]
  }
 ],
 "metadata": {
  "kernelspec": {
   "display_name": "Python 3",
   "language": "python",
   "name": "python3"
  },
  "language_info": {
   "codemirror_mode": {
    "name": "ipython",
    "version": 3
   },
   "file_extension": ".py",
   "mimetype": "text/x-python",
   "name": "python",
   "nbconvert_exporter": "python",
   "pygments_lexer": "ipython3",
   "version": "3.8.8"
  }
 },
 "nbformat": 4,
 "nbformat_minor": 5
}
